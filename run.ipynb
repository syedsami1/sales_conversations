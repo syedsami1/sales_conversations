{
  "nbformat": 4,
  "nbformat_minor": 0,
  "metadata": {
    "colab": {
      "provenance": []
    },
    "kernelspec": {
      "name": "python3",
      "display_name": "Python 3"
    },
    "language_info": {
      "name": "python"
    }
  },
  "cells": [
    {
      "cell_type": "code",
      "execution_count": 1,
      "metadata": {
        "id": "A9B_SywJ_rPp"
      },
      "outputs": [],
      "source": [
        "import csv\n",
        "import random\n",
        "import time"
      ]
    },
    {
      "cell_type": "code",
      "source": [
        "import csv\n",
        "import random\n",
        "import time\n",
        "\n",
        "def generate_sales_conversations(num_sets, min_response_words, max_response_words):\n",
        "    sales_conversations = []\n",
        "\n",
        "    # Sample products or services\n",
        "    products = [\"Smartphone\", \"Laptop\", \"Smartwatch\", \"Headphones\", \"Tablet\"]\n",
        "\n",
        "    # Sample conversation prompts\n",
        "    prompts = [\n",
        "        \"Hello, welcome to our store. How may I assist you today?\",\n",
        "        \"Are you looking for anything specific?\",\n",
        "        \"Would you like to know more about our latest products?\"\n",
        "    ]\n",
        "\n",
        "    for _ in range(num_sets):\n",
        "        salesman_name = \"SalesBot\"\n",
        "        user_name = \"Customer\"\n",
        "\n",
        "        conversation = []\n",
        "\n",
        "        # Initial greeting\n",
        "        conversation.append((salesman_name, random.choice(prompts)))\n",
        "\n",
        "        # Simulate conversation\n",
        "        while len(conversation) < 5: # Generating at most 5 exchanges per conversation\n",
        "            # Generate user response\n",
        "            user_response = generate_user_response(products)\n",
        "            conversation.append((user_name, user_response))\n",
        "\n",
        "            # Generate salesman response\n",
        "            salesman_response = generate_salesman_response(user_response, products)\n",
        "            conversation.append((salesman_name, salesman_response))\n",
        "\n",
        "        sales_conversations.append(conversation)\n",
        "\n",
        "    return sales_conversations\n",
        "\n",
        "def generate_user_response(products):\n",
        "    # Simulate user response based on the product\n",
        "    product = random.choice(products)\n",
        "    user_response = f\"I’m interested in buying a {product}. Can you provide more information?\"\n",
        "\n",
        "    return user_response\n",
        "\n",
        "def generate_salesman_response(user_response, products):\n",
        "    # Simulate salesman response based on user query\n",
        "    if \"price\" in user_response:\n",
        "        response = f\"The price of {random.choice(products)} starts at $XXX.\"\n",
        "    elif \"features\" in user_response:\n",
        "        response = f\"Sure, let me tell you about the features of {random.choice(products)}.\"\n",
        "    else:\n",
        "        response = \"Certainly, we have a wide range of products to suit your needs.\"\n",
        "\n",
        "    return response"
      ],
      "metadata": {
        "id": "F7SLA7O9_voq"
      },
      "execution_count": 3,
      "outputs": []
    },
    {
      "cell_type": "code",
      "source": [
        "def write_to_csv(sales_conversations):\n",
        "    with open('sales_conversations.csv', mode='w', newline='') as file:\n",
        "        writer = csv.writer(file)\n",
        "        writer.writerow(['Salesman', 'User', 'Timestamp'])\n",
        "\n",
        "        for conversation_set in sales_conversations:\n",
        "            for role, message in conversation_set:\n",
        "                timestamp = time.strftime(\"%Y-%m-%d %H:%M:%S\", time.localtime())\n",
        "                writer.writerow([role, message, timestamp])"
      ],
      "metadata": {
        "id": "F83l2KJnCFkm"
      },
      "execution_count": 5,
      "outputs": []
    },
    {
      "cell_type": "code",
      "source": [
        "if __name__ == \"__main__\":\n",
        "    num_sets = 100\n",
        "    min_response_words = 50\n",
        "    max_response_words = 75\n",
        "\n",
        "    sales_conversations = generate_sales_conversations(num_sets, min_response_words, max_response_words)\n",
        "    write_to_csv(sales_conversations)\n"
      ],
      "metadata": {
        "id": "AS-U9K1HCZl3"
      },
      "execution_count": 6,
      "outputs": []
    }
  ]
}